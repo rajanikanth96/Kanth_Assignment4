{
 "cells": [
  {
   "cell_type": "code",
   "execution_count": 92,
   "metadata": {},
   "outputs": [
    {
     "name": "stdout",
     "output_type": "stream",
     "text": [
      "length of side a:7\n",
      "length of side b:9\n",
      "length of side c:10\n",
      "The area of the triangle is 30.59\n"
     ]
    }
   ],
   "source": [
    "# area = (s*(s-a)*(s-b)*(s-c)) ** 0.5\n",
    "class area:\n",
    "    def _init_(self):\n",
    "        return\n",
    "   \n",
    "    def input(self):\n",
    "        l=[]\n",
    "        area.a= float(input(\"length of side a:\")) \n",
    "        area.b= float(input(\"length of side b:\"))\n",
    "        area.c= float(input(\"length of side c:\"))\n",
    "        l.append(area.a)\n",
    "        l.append(area.b)\n",
    "        l.append(area.c)\n",
    "        return l\n",
    "\n",
    "class calArea(area):\n",
    "    \n",
    "    def _init_(self):\n",
    "        area.input()\n",
    "        \n",
    "    def calculate(self):\n",
    "            s=0.0\n",
    "            x1=float(area.a) \n",
    "            y1=float(area.b) \n",
    "            z1=float(area.c) \n",
    "            s=(x1+y1+z1)/2\n",
    "            total=float((s*(s-x1)*(s-y1)*(s-z1))**0.5)\n",
    "            return total\n",
    "            \n",
    "areaTotal=0.0\n",
    "obj2=calArea()        \n",
    "l1= obj2.input()\n",
    "areaTotal = float(obj2.calculate())\n",
    "print('The area of the triangle is %0.2f' %areaTotal)"
   ]
  },
  {
   "cell_type": "code",
   "execution_count": 64,
   "metadata": {},
   "outputs": [
    {
     "name": "stdout",
     "output_type": "stream",
     "text": [
      "Enter the number: 7\n",
      "Words which are more than defined length are: ['sentense', 'contemporary']\n"
     ]
    }
   ],
   "source": [
    "# Write a function filter_long_words() that takes a list of words and an integer n and returns\n",
    "# the list of words that are longer than n.\n",
    "\n",
    "list1=[\"Rajani\",\"health\",\"content\",\"sentense\",\"is\",\"a\",\"contemporary\"]\n",
    "\n",
    "num = int(input(\"Enter the number: \"))\n",
    "\n",
    "finalAnswer=[]\n",
    "def filter_long_words(l1, n):\n",
    "    \n",
    "    finalList=[]\n",
    "    for i in l1:\n",
    "        if len(i)>n:\n",
    "            finalList.append(i)\n",
    "    return (finalList)\n",
    "    \n",
    "finalAnswer=filter_long_words(list1,num)\n",
    "\n",
    "print(\"Words which are more than defined length are:\", finalAnswer)\n",
    "    "
   ]
  },
  {
   "cell_type": "code",
   "execution_count": 70,
   "metadata": {},
   "outputs": [
    {
     "name": "stdout",
     "output_type": "stream",
     "text": [
      "[2, 3, 4]\n"
     ]
    }
   ],
   "source": [
    "#If a list [ ab,cde,erty] is passed on to the python function output should come as [2,3,4]\n",
    "\n",
    "l1=[\"ab\",\"cde\",\"erty\"]\n",
    "\n",
    "def findLength(l):\n",
    "    listLen=[]\n",
    "    for i in l1:\n",
    "        listLen.append(len(i))\n",
    "    return (listLen)\n",
    "\n",
    "print(findLength(l1))"
   ]
  },
  {
   "cell_type": "code",
   "execution_count": 88,
   "metadata": {},
   "outputs": [
    {
     "name": "stdout",
     "output_type": "stream",
     "text": [
      "Enter a Char:a\n",
      "a\n",
      "True\n"
     ]
    }
   ],
   "source": [
    "a=input(\"Enter a Char:\")\n",
    "print(a.lower())\n",
    "\n",
    "def checkOwel(a):\n",
    "    owels=['a','e','i','o','u']\n",
    "    if a in owels:\n",
    "        return True\n",
    "    \n",
    "flag = bool (checkOwel(a))    \n",
    "print(flag)\n",
    "    \n"
   ]
  }
 ],
 "metadata": {
  "kernelspec": {
   "display_name": "Python 3",
   "language": "python",
   "name": "python3"
  },
  "language_info": {
   "codemirror_mode": {
    "name": "ipython",
    "version": 3
   },
   "file_extension": ".py",
   "mimetype": "text/x-python",
   "name": "python",
   "nbconvert_exporter": "python",
   "pygments_lexer": "ipython3",
   "version": "3.6.5"
  }
 },
 "nbformat": 4,
 "nbformat_minor": 2
}
